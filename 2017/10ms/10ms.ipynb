{
 "cells": [
  {
   "cell_type": "code",
   "execution_count": 1,
   "metadata": {
    "collapsed": false
   },
   "outputs": [
    {
     "name": "stdout",
     "output_type": "stream",
     "text": [
      "12\n",
      "7888\n"
     ]
    }
   ],
   "source": [
    "class CyclicList(list):\n",
    "    def __init__(self, content):\n",
    "        super(CyclicList, self).__init__(content)\n",
    "        \n",
    "    def __getitem__(self, index):\n",
    "#        print(\"get {}\".format(index))\n",
    "        return super(CyclicList, self).__getitem__(index % len(self))\n",
    "    \n",
    "    def __setitem__(self, index, value):\n",
    "#        print(\"set {} to {}\".format(index, value))\n",
    "        return super(CyclicList, self).__setitem__(index % len(self), value)\n",
    "\n",
    "\n",
    "def fold(length, lengths):\n",
    "    values = CyclicList(range(length))\n",
    "    skip_size = 0\n",
    "    position = 0\n",
    "    for length in lengths:\n",
    "        for i in range(int(length / 2)):\n",
    "            (values[position+i], values[position+length-i-1]) = (values[position+length-i-1], values[position+i])\n",
    "        position += length + skip_size\n",
    "        skip_size += 1\n",
    "#        print(values)\n",
    "    return values\n",
    "\n",
    "\n",
    "def hash(length, lengths):\n",
    "    values = fold(length, lengths)\n",
    "    return values[0] * values[1]\n",
    "\n",
    "print(hash(5, [3, 4, 1, 5]))\n",
    "print(hash(256, [70,66,255,2,48,0,54,48,80,141,244,254,160,108,1,41]))"
   ]
  },
  {
   "cell_type": "code",
   "execution_count": 2,
   "metadata": {
    "collapsed": false
   },
   "outputs": [
    {
     "name": "stdout",
     "output_type": "stream",
     "text": [
      "\"\": a2582a3ae66e6e86e3812dcb672a272\n",
      "\"AoC 2017\": 33efeb34ea91902bb2f59c9920caa6cd\n",
      "\"1,2,3\": 3efbe78a8d82f2997931a4aa0b16a9d\n",
      "\"1,2,4\": 6396835bcdc13fb66d7ff4f6a5a8e\n",
      "\"70,66,255,2,48,0,54,48,80,141,244,254,160,108,1,41\": decdf7d377879877173b7f2fb131cf1b\n"
     ]
    }
   ],
   "source": [
    "from functools import reduce\n",
    "import operator\n",
    "\n",
    "def make_indices(string, rounds):\n",
    "    for r in range(rounds):\n",
    "        for c in string:\n",
    "            yield ord(c)\n",
    "        for s in [17, 31, 73, 47, 23]:\n",
    "            yield s\n",
    "\n",
    "            \n",
    "def densify(values):\n",
    "    v = list(values)\n",
    "    return [reduce(operator.xor, v[i:i+16], 0) for i in range(0, len(v), 16)]\n",
    "    \n",
    "\n",
    "def hash_string(string):\n",
    "    values = fold(256, make_indices(string, 64))\n",
    "    dense_hash = densify(values)\n",
    "    return \"\".join(\"{:x}\".format(c) for c in dense_hash)\n",
    "\n",
    "test_inputs = [\n",
    "    \"\",\n",
    "    \"AoC 2017\",\n",
    "    \"1,2,3\",\n",
    "    \"1,2,4\",\n",
    "    \"70,66,255,2,48,0,54,48,80,141,244,254,160,108,1,41\"\n",
    "]\n",
    "for input in test_inputs:\n",
    "    print('\"{}\": {}'.format(input, hash_string(input)))\n",
    "    "
   ]
  }
 ],
 "metadata": {
  "kernelspec": {
   "display_name": "Python 3",
   "language": "python",
   "name": "python3"
  },
  "language_info": {
   "codemirror_mode": {
    "name": "ipython",
    "version": 3
   },
   "file_extension": ".py",
   "mimetype": "text/x-python",
   "name": "python",
   "nbconvert_exporter": "python",
   "pygments_lexer": "ipython3",
   "version": "3.6.3"
  }
 },
 "nbformat": 4,
 "nbformat_minor": 2
}
