{
 "cells": [
  {
   "cell_type": "code",
   "execution_count": 10,
   "metadata": {
    "collapsed": false
   },
   "outputs": [],
   "source": [
    "def generator(start, factor):\n",
    "    value = start\n",
    "    while True:\n",
    "        value = (value * factor) % 2147483647\n",
    "        yield value\n",
    "\n",
    "def generatorA(start):\n",
    "    return generator(start, 16807)\n",
    "\n",
    "def generatorB(start):\n",
    "    return generator(start, 48271)\n",
    "\n",
    "def judge(pairs, start_a, start_b):\n",
    "    count = 0\n",
    "    a = generatorA(start_a)\n",
    "    b = generatorB(start_b)\n",
    "    for i in range(pairs):\n",
    "        if (next(a) & 0xffff) == (next(b) & 0xffff):\n",
    "            count += 1\n",
    "    return count\n"
   ]
  },
  {
   "cell_type": "code",
   "execution_count": 18,
   "metadata": {
    "collapsed": false
   },
   "outputs": [
    {
     "name": "stdout",
     "output_type": "stream",
     "text": [
      "2428\n",
      "2473\n"
     ]
    }
   ],
   "source": [
    "print(judge(40000000, 65, 8921))\n",
    "print(judge(40000000, 699, 124))"
   ]
  },
  {
   "cell_type": "code",
   "execution_count": 15,
   "metadata": {
    "collapsed": false
   },
   "outputs": [],
   "source": [
    "def generatorA(start):\n",
    "    factor = 16807\n",
    "    value = start\n",
    "    while True:\n",
    "        value = (value * factor) % 2147483647\n",
    "        if value & 0x3 == 0:\n",
    "            yield value\n",
    "        \n",
    "def generatorB(start):\n",
    "    factor = 48271\n",
    "    value = start\n",
    "    while True:\n",
    "        value = (value * factor) % 2147483647\n",
    "        if value & 0x7 == 0:\n",
    "            yield value\n",
    "\n",
    "\n",
    "def judge(pairs, start_a, start_b):\n",
    "    count = 0\n",
    "    a = generatorA(start_a)\n",
    "    b = generatorB(start_b)\n",
    "    for i in range(pairs):\n",
    "        if (next(a) & 0xffff) == (next(b) & 0xffff):\n",
    "            count += 1\n",
    "    return count\n"
   ]
  },
  {
   "cell_type": "code",
   "execution_count": 17,
   "metadata": {
    "collapsed": false
   },
   "outputs": [
    {
     "name": "stdout",
     "output_type": "stream",
     "text": [
      "309\n",
      "313\n"
     ]
    }
   ],
   "source": [
    "print(judge(5000000, 65, 8921))\n",
    "print(judge(5000000, 699, 124))"
   ]
  }
 ],
 "metadata": {
  "kernelspec": {
   "display_name": "Python 3",
   "language": "python",
   "name": "python3"
  },
  "language_info": {
   "codemirror_mode": {
    "name": "ipython",
    "version": 3
   },
   "file_extension": ".py",
   "mimetype": "text/x-python",
   "name": "python",
   "nbconvert_exporter": "python",
   "pygments_lexer": "ipython3",
   "version": "3.6.3"
  }
 },
 "nbformat": 4,
 "nbformat_minor": 2
}
