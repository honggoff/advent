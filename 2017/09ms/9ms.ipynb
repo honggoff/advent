{
 "cells": [
  {
   "cell_type": "code",
   "execution_count": 5,
   "metadata": {
    "collapsed": false
   },
   "outputs": [
    {
     "name": "stdout",
     "output_type": "stream",
     "text": [
      "{}\n",
      "1\n",
      "{{{}}}\n",
      "6\n",
      "{{},{}}\n",
      "5\n",
      "{{{},{},{{}}}}\n",
      "16\n",
      "{<a>,<a>,<a>,<a>}\n",
      "1\n",
      "{{<ab>},{<ab>},{<ab>},{<ab>}}\n",
      "9\n",
      "{{<!!>},{<!!>},{<!!>},{<!!>}}\n",
      "9\n",
      "{{<a!>},{<a!>},{<a!>},{<ab>}}\n",
      "3\n",
      "input\n",
      "16689\n"
     ]
    }
   ],
   "source": [
    "test_inputs = [\n",
    "    \"{}\",\n",
    "    \"{{{}}}\",\n",
    "    \"{{},{}}\",\n",
    "    \"{{{},{},{{}}}}\",\n",
    "    \"{<a>,<a>,<a>,<a>}\",\n",
    "    \"{{<ab>},{<ab>},{<ab>},{<ab>}}\",\n",
    "    \"{{<!!>},{<!!>},{<!!>},{<!!>}}\",\n",
    "    \"{{<a!>},{<a!>},{<a!>},{<ab>}}\",\n",
    "]\n",
    "\n",
    "def garbage(input):\n",
    "    #print('garbage')\n",
    "    for c in input:\n",
    "        #print(c)\n",
    "        if c == '!':\n",
    "            next(input)\n",
    "        if c == '>':\n",
    "            return\n",
    "\n",
    "def group(input, level):\n",
    "    score = level\n",
    "    #print('group')\n",
    "    for c in input:\n",
    "        #print(c)\n",
    "        if c == '{':\n",
    "            score += group(input, level + 1)\n",
    "        if c == '<':\n",
    "            garbage(input)\n",
    "        if c == '}':\n",
    "            return score\n",
    "        if c == ',':\n",
    "            next\n",
    "\n",
    "def parse(input):\n",
    "    assert(next(input) == '{')\n",
    "    return group(input, 1)\n",
    "\n",
    "for input in test_inputs:\n",
    "    print(input)\n",
    "    print(parse(iter(input)))\n",
    "    \n",
    "with open('input', 'r') as f:\n",
    "    line = f.readline()\n",
    "    print('input')\n",
    "    print(parse(iter(line)))"
   ]
  },
  {
   "cell_type": "code",
   "execution_count": 10,
   "metadata": {
    "collapsed": false
   },
   "outputs": [
    {
     "name": "stdout",
     "output_type": "stream",
     "text": [
      "<>\n",
      "0\n",
      "<random characters>\n",
      "17\n",
      "<<<<>\n",
      "3\n",
      "<{!>}>\n",
      "2\n",
      "<!!>\n",
      "0\n",
      "<!!!>>\n",
      "0\n",
      "<{o\"i!a,<{i<a>\n",
      "10\n",
      "input\n",
      "7982\n"
     ]
    }
   ],
   "source": [
    "def garbage(input):\n",
    "    #print('garbage')\n",
    "    count = 0\n",
    "    for c in input:\n",
    "        #print(c)\n",
    "        if c == '!':\n",
    "            next(input)\n",
    "        elif c == '>':\n",
    "            return count\n",
    "        else:\n",
    "            count += 1\n",
    "\n",
    "def group(input, level):\n",
    "    count = 0\n",
    "    #print('group')\n",
    "    for c in input:\n",
    "        #print(c)\n",
    "        if c == '{':\n",
    "            count += group(input, level + 1)\n",
    "        if c == '<':\n",
    "            count += garbage(input)\n",
    "        if c == '}':\n",
    "            return count\n",
    "        if c == ',':\n",
    "            next\n",
    "\n",
    "def parse(input):\n",
    "    assert(next(input) == '{')\n",
    "    return group(input, 1)\n",
    "\n",
    "test_inputs = [\n",
    "    \"<>\",\n",
    "    \"<random characters>\",\n",
    "    \"<<<<>\",\n",
    "    \"<{!>}>\",\n",
    "    \"<!!>\",\n",
    "    \"<!!!>>\",\n",
    "    \"<{o\\\"i!a,<{i<a>\"\n",
    "]\n",
    "\n",
    "for input in test_inputs:\n",
    "    print(input)\n",
    "    print(garbage(iter(input)) - 1)\n",
    "    \n",
    "with open('input', 'r') as f:\n",
    "    line = f.readline()\n",
    "    print('input')\n",
    "    print(parse(iter(line)))"
   ]
  }
 ],
 "metadata": {
  "kernelspec": {
   "display_name": "Python 3",
   "language": "python",
   "name": "python3"
  },
  "language_info": {
   "codemirror_mode": {
    "name": "ipython",
    "version": 3
   },
   "file_extension": ".py",
   "mimetype": "text/x-python",
   "name": "python",
   "nbconvert_exporter": "python",
   "pygments_lexer": "ipython3",
   "version": "3.6.3"
  }
 },
 "nbformat": 4,
 "nbformat_minor": 2
}
