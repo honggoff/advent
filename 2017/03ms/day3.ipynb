{
 "cells": [
  {
   "cell_type": "code",
   "execution_count": 2,
   "metadata": {
    "collapsed": false
   },
   "outputs": [
    {
     "name": "stdout",
     "output_type": "stream",
     "text": [
      "1 0.0\n",
      "12 3.0\n",
      "23 2.0\n",
      "1024 31.0\n",
      "347991 480.0\n"
     ]
    }
   ],
   "source": [
    "from numpy import matrix\n",
    "from numpy.linalg import norm\n",
    "\n",
    "def positions():\n",
    "    position = matrix([[0], [0]])\n",
    "    direction = matrix([[1], [0]])\n",
    "    rotate = matrix([[0, 1], [-1, 0]])\n",
    "    distance = 1\n",
    "    while True:\n",
    "        for times in range(2):\n",
    "            for i in range(distance):\n",
    "                yield position\n",
    "                position += direction\n",
    "            direction = rotate * direction\n",
    "        distance += 1\n",
    "\n",
    "special_addresses = (1, 12, 23, 1024, 347991)\n",
    "a = 1\n",
    "for p in positions():\n",
    "    if a in special_addresses:\n",
    "        print(a, norm(p, 1))\n",
    "    a += 1\n",
    "    if a > 347991:\n",
    "        break"
   ]
  },
  {
   "cell_type": "code",
   "execution_count": 8,
   "metadata": {
    "collapsed": false
   },
   "outputs": [],
   "source": [
    "class memory:\n",
    "    def __init__(self):\n",
    "        self._values = {}\n",
    "        \n",
    "    def __setitem__(self, position, value):\n",
    "        self._values[(position[0, 0], position[1, 0])] = value\n",
    "    \n",
    "    def __getitem__(self, position):\n",
    "        return self._values.get((position[0, 0], position[1, 0]), 0)\n",
    "    \n",
    "    def sum_neighbours(self, position):\n",
    "        neighbours = [\n",
    "            matrix([[ 1], [ 0]]),\n",
    "            matrix([[ 1], [ 1]]),\n",
    "            matrix([[ 0], [ 1]]),\n",
    "            matrix([[-1], [ 1]]),\n",
    "            matrix([[-1], [ 0]]),\n",
    "            matrix([[-1], [-1]]),\n",
    "            matrix([[ 0], [-1]]),\n",
    "            matrix([[ 1], [-1]]),\n",
    "        ]\n",
    "        return sum(self[position + d] for d in neighbours)\n",
    "\n",
    "def memtest():\n",
    "    position = matrix([[0], [0]])\n",
    "    direction = matrix([[1], [0]])\n",
    "    rotate = matrix([[0, 1], [-1, 0]])\n",
    "    distance = 1\n",
    "    values = memory()\n",
    "    values[position] = 1\n",
    "    while True:\n",
    "        for times in range(2):\n",
    "            for i in range(distance):\n",
    "                position += direction\n",
    "                value = values.sum_neighbours(position)\n",
    "                yield value\n",
    "                values[position] = value\n",
    "            direction = rotate * direction\n",
    "        distance += 1\n"
   ]
  },
  {
   "cell_type": "code",
   "execution_count": 11,
   "metadata": {
    "collapsed": false
   },
   "outputs": [
    {
     "name": "stdout",
     "output_type": "stream",
     "text": [
      "1\n",
      "2\n",
      "4\n",
      "5\n",
      "10\n",
      "11\n",
      "23\n",
      "25\n",
      "26\n",
      "54\n",
      "57\n",
      "59\n",
      "122\n",
      "133\n",
      "142\n",
      "147\n",
      "304\n",
      "330\n",
      "351\n",
      "362\n",
      "747\n",
      "806\n",
      "880\n",
      "931\n",
      "957\n",
      "1968\n",
      "2105\n",
      "2275\n",
      "2391\n",
      "2450\n",
      "5022\n",
      "5336\n",
      "5733\n",
      "6155\n",
      "6444\n",
      "6591\n",
      "13486\n",
      "14267\n",
      "15252\n",
      "16295\n",
      "17008\n",
      "17370\n",
      "35487\n",
      "37402\n",
      "39835\n",
      "42452\n",
      "45220\n",
      "47108\n",
      "48065\n",
      "98098\n",
      "103128\n",
      "109476\n",
      "116247\n",
      "123363\n",
      "128204\n",
      "130654\n",
      "266330\n",
      "279138\n",
      "295229\n",
      "312453\n",
      "330785\n",
      "349975\n"
     ]
    }
   ],
   "source": [
    "for m in memtest():\n",
    "    print(m)\n",
    "    if m > 347991:\n",
    "        break"
   ]
  }
 ],
 "metadata": {
  "kernelspec": {
   "display_name": "Python 3",
   "language": "python",
   "name": "python3"
  },
  "language_info": {
   "codemirror_mode": {
    "name": "ipython",
    "version": 3
   },
   "file_extension": ".py",
   "mimetype": "text/x-python",
   "name": "python",
   "nbconvert_exporter": "python",
   "pygments_lexer": "ipython3",
   "version": "3.6.3"
  }
 },
 "nbformat": 4,
 "nbformat_minor": 2
}
