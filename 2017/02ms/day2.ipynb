{
 "cells": [
  {
   "cell_type": "code",
   "execution_count": 27,
   "metadata": {
    "collapsed": false
   },
   "outputs": [
    {
     "name": "stdout",
     "output_type": "stream",
     "text": [
      "example checksum: 18\n",
      "file checksum: 47136\n"
     ]
    }
   ],
   "source": [
    "input1 = \"\"\"5 1 9 5\n",
    "7 5 3\n",
    "2 4 6 8\"\"\"\n",
    "\n",
    "def get_lines_from_string(string):\n",
    "    for l in string.split('\\n'):\n",
    "        yield l\n",
    "\n",
    "def get_lines_from_file(filename):\n",
    "    with open(filename) as f:\n",
    "        for l in f:\n",
    "            yield l\n",
    "            \n",
    "def get_lists(lines):\n",
    "    for line in lines:\n",
    "        yield [int(i) for i in line.split()]\n",
    "\n",
    "def line_checksum1(l):\n",
    "    return max(l) - min(l)\n",
    "        \n",
    "def sheet_checksum1(lines):\n",
    "    return sum(line_checksum1(l) for l in get_lists(lines))\n",
    "\n",
    "lines = get_lines_from_string(input1)\n",
    "\n",
    "print(\"example checksum: {}\".format(sheet_checksum1(get_lines_from_string(input1))))\n",
    "print(\"file checksum: {}\".format(sheet_checksum1(get_lines_from_file('input2.txt'))))\n"
   ]
  },
  {
   "cell_type": "code",
   "execution_count": 29,
   "metadata": {
    "collapsed": false
   },
   "outputs": [
    {
     "name": "stdout",
     "output_type": "stream",
     "text": [
      "example checksum: 9.0\n",
      "file checksum: 250.0\n"
     ]
    }
   ],
   "source": [
    "input2 = \"\"\"5 9 2 8\n",
    "9 4 7 3\n",
    "3 8 6 5\"\"\"\n",
    "\n",
    "def line_checksum2(line):\n",
    "    for s in range(len(line) - 1):\n",
    "        for e in range(s + 1, len(line)):\n",
    "            a = line[s]\n",
    "            b = line[e]\n",
    "            if a % b == 0:\n",
    "                return a / b\n",
    "            if b % a == 0:\n",
    "                return b / a\n",
    "\n",
    "def sheet_checksum2(lines):\n",
    "    return sum(line_checksum2(l) for l in get_lists(lines))\n",
    "\n",
    "print(\"example checksum: {}\".format(sheet_checksum2(get_lines_from_string(input2))))\n",
    "print(\"file checksum: {}\".format(sheet_checksum2(get_lines_from_file('input2.txt'))))"
   ]
  }
 ],
 "metadata": {
  "kernelspec": {
   "display_name": "Python 3",
   "language": "python",
   "name": "python3"
  },
  "language_info": {
   "codemirror_mode": {
    "name": "ipython",
    "version": 3
   },
   "file_extension": ".py",
   "mimetype": "text/x-python",
   "name": "python",
   "nbconvert_exporter": "python",
   "pygments_lexer": "ipython3",
   "version": "3.6.3"
  }
 },
 "nbformat": 4,
 "nbformat_minor": 2
}
