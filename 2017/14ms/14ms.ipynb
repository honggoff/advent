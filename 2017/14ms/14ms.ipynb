{
 "cells": [
  {
   "cell_type": "code",
   "execution_count": 81,
   "metadata": {
    "collapsed": false
   },
   "outputs": [],
   "source": [
    "from functools import reduce\n",
    "import operator\n",
    "\n",
    "class CyclicList(list):\n",
    "    def __init__(self, content):\n",
    "        super(CyclicList, self).__init__(content)\n",
    "        \n",
    "    def __getitem__(self, index):\n",
    "        return super(CyclicList, self).__getitem__(index % len(self))\n",
    "    \n",
    "    def __setitem__(self, index, value):\n",
    "        return super(CyclicList, self).__setitem__(index % len(self), value)\n",
    "\n",
    "\n",
    "def fold(length, lengths):\n",
    "    values = CyclicList(range(length))\n",
    "    skip_size = 0\n",
    "    position = 0\n",
    "    for length in lengths:\n",
    "        for i in range(int(length / 2)):\n",
    "            (values[position+i], values[position+length-i-1]) = (values[position+length-i-1], values[position+i])\n",
    "        position += length + skip_size\n",
    "        skip_size += 1\n",
    "    return values\n",
    "\n",
    "\n",
    "def make_indices(string, rounds):\n",
    "    for r in range(rounds):\n",
    "        for c in string:\n",
    "            yield ord(c)\n",
    "        for s in [17, 31, 73, 47, 23]:\n",
    "            yield s\n",
    "\n",
    "            \n",
    "def densify(values):\n",
    "    v = list(values)\n",
    "    return [reduce(operator.xor, v[i:i+16], 0) for i in range(0, len(v), 16)]\n",
    "\n",
    "\n",
    "def hash_string(string):\n",
    "    values = fold(256, make_indices(string, 64))\n",
    "    return densify(values)\n",
    "\n",
    "\n",
    "def binary_hash(string):\n",
    "    return [bool(byte & (1 << o)) for byte in hash_string(string) for o in reversed(range(8))]"
   ]
  },
  {
   "cell_type": "code",
   "execution_count": 82,
   "metadata": {
    "collapsed": false
   },
   "outputs": [],
   "source": [
    "import numpy as np\n",
    "def hamming_weight(byte):\n",
    "    return sum(bool(byte & (1 << o)) for o in range(8))\n",
    "\n",
    "def count_ones(key):\n",
    "    return sum(hamming_weight(d) for i in range(128) for d in  hash_string(\"{}-{}\".format(key, i)))\n",
    "\n",
    "def count_ones_binary(key):\n",
    "    return sum(sum(binary_hash(\"{}-{}\".format(key, i))) for i in range(128))\n",
    "\n",
    "def make_map(key):\n",
    "    return np.array([binary_hash(\"{}-{}\".format(key, i)) for i in range(128)])\n",
    "\n",
    "def print_map(m):\n",
    "    for row in m:\n",
    "        print(''.join('#' if e else '.' for e in row))"
   ]
  },
  {
   "cell_type": "code",
   "execution_count": 83,
   "metadata": {
    "collapsed": false
   },
   "outputs": [],
   "source": [
    "map1 = make_map('flqrgnkx')\n",
    "map2 = make_map('ffayrhll')"
   ]
  },
  {
   "cell_type": "code",
   "execution_count": 86,
   "metadata": {
    "collapsed": false
   },
   "outputs": [
    {
     "name": "stdout",
     "output_type": "stream",
     "text": [
      "[[ True  True False  True False  True False False]\n",
      " [False  True False  True False  True False  True]\n",
      " [False False False False  True False  True False]\n",
      " [ True False  True False  True  True False  True]\n",
      " [False  True  True False  True False False False]\n",
      " [ True  True False False  True False False  True]\n",
      " [False  True False False False  True False False]\n",
      " [ True  True False  True False  True  True False]]\n"
     ]
    }
   ],
   "source": [
    "print(map1[0:8, 0:8])"
   ]
  },
  {
   "cell_type": "code",
   "execution_count": 88,
   "metadata": {
    "collapsed": false
   },
   "outputs": [
    {
     "data": {
      "text/plain": [
       "1134"
      ]
     },
     "execution_count": 88,
     "metadata": {},
     "output_type": "execute_result"
    }
   ],
   "source": [
    "import numpy as np\n",
    "\n",
    "def neighbors(position):\n",
    "    offsets = [\n",
    "        np.array((1, 0)),\n",
    "        np.array((-1, 0)),\n",
    "        np.array((0, 1)),\n",
    "        np.array((0, -1))\n",
    "    ]\n",
    "    for o in offsets:\n",
    "        n = position + o\n",
    "        if all(n >= 0) and all(n < 128):\n",
    "            yield n\n",
    "\n",
    "def fill_region(m, position):\n",
    "    elements = [position]\n",
    "    while elements:\n",
    "        p = elements.pop()\n",
    "        if m[tuple(p)]:\n",
    "            for n in neighbors(p):\n",
    "                elements.append(n)\n",
    "            m[tuple(p)] = False\n",
    "\n",
    "def count_regions(m):\n",
    "    count = 0\n",
    "    m = m.copy()\n",
    "    for r in range(len(m)):\n",
    "        for c in range(len(m[r])):\n",
    "            if m[r, c]:\n",
    "                fill_region(m, np.array((r, c)))\n",
    "                count += 1\n",
    "    return count\n",
    "count_regions(map2)"
   ]
  }
 ],
 "metadata": {
  "kernelspec": {
   "display_name": "Python 3",
   "language": "python",
   "name": "python3"
  },
  "language_info": {
   "codemirror_mode": {
    "name": "ipython",
    "version": 3
   },
   "file_extension": ".py",
   "mimetype": "text/x-python",
   "name": "python",
   "nbconvert_exporter": "python",
   "pygments_lexer": "ipython3",
   "version": "3.6.3"
  }
 },
 "nbformat": 4,
 "nbformat_minor": 2
}
