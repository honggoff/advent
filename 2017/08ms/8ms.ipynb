{
 "cells": [
  {
   "cell_type": "code",
   "execution_count": 46,
   "metadata": {
    "collapsed": false
   },
   "outputs": [],
   "source": [
    "from collections import defaultdict\n",
    "\n",
    "\n",
    "class Operation:\n",
    "    fields = ('register', 'operation', 'operand', '', 'arg1', 'operator', 'arg2')\n",
    "    def __init__(self, line):\n",
    "        for name, value in zip(Operation.fields, line.split()):\n",
    "            if name:\n",
    "                self.__dict__[name] = value\n",
    "        self.operand = int(self.operand)\n",
    "        self.arg2 = int(self.arg2)\n",
    "        \n",
    "    def __str__(self):\n",
    "        fields = [self.__dict__[f] for f in Operation.fields if f]\n",
    "        return \"{} {} {} if {} {} {}\".format(*fields)\n",
    "\n",
    "    \n",
    "def compare(arg1, op, arg2):\n",
    "    ops = {\n",
    "        '<' : lambda x, y: x <  y,\n",
    "        '>' : lambda x, y: x >  y,\n",
    "        '<=': lambda x, y: x <= y,\n",
    "        '>=': lambda x, y: x >= y,\n",
    "        '!=': lambda x, y: x != y,\n",
    "        '==': lambda x, y: x == y,\n",
    "    }\n",
    "    return ops[op](arg1, arg2)\n",
    "    \n",
    "    \n",
    "def calculate(value, op, arg):\n",
    "    if op == 'inc':\n",
    "        return value + arg\n",
    "    if op == 'dec':\n",
    "        return value - arg\n",
    "    assert(False)\n",
    "    \n",
    "    \n",
    "def execute(lines, registers):\n",
    "    for line in lines:\n",
    "        o = Operation(line)\n",
    "        if compare(registers[o.arg1], o.operator, o.arg2):\n",
    "            registers[o.register] = calculate(registers[o.register], o.operation, o.operand)\n",
    "            yield registers\n",
    "\n",
    "def max_value(lines, registers):\n",
    "    return max(max(r.values()) for r in execute(lines, registers))"
   ]
  },
  {
   "cell_type": "code",
   "execution_count": 55,
   "metadata": {
    "collapsed": false
   },
   "outputs": [
    {
     "name": "stdout",
     "output_type": "stream",
     "text": [
      "10\n",
      "defaultdict(<function <lambda> at 0x7f61e44692f0>, {'a': 1, 'b': 0, 'c': -10})\n",
      "1\n"
     ]
    }
   ],
   "source": [
    "test_input = \"\"\"b inc 5 if a > 1\n",
    "a inc 1 if b < 5\n",
    "c dec -10 if a >= 1\n",
    "c inc -20 if c == 10\"\"\"\n",
    "\n",
    "registers = defaultdict(lambda: 0)\n",
    "print(max_value(test_input.split('\\n'), registers))\n",
    "print(registers)\n",
    "print(max(registers.values()))"
   ]
  },
  {
   "cell_type": "code",
   "execution_count": 56,
   "metadata": {
    "collapsed": false
   },
   "outputs": [
    {
     "name": "stdout",
     "output_type": "stream",
     "text": [
      "4644\n",
      "defaultdict(<function <lambda> at 0x7f61e43f9840>, {'jhb': -3680, 'gbu': -2111, 'ib': 1781, 'es': -2325, 'buw': 322, 'xzn': -1902, 'ytr': 3222, 'j': -3403, 'okl': 1917, 'fzu': -1762, 's': -2351, 'eb': -2694, 'zd': -11333, 'ae': 555, 'cpq': -6179, 'fij': 3392, 'q': -5412, 'r': -3700, 'wf': -5274, 'on': 3745, 'iuz': 2554, 'iy': 1373, 'yvh': 1129, 'rtu': -1223, 'laz': -1439, 'h': -7013, 'su': -1562})\n",
      "3745\n"
     ]
    }
   ],
   "source": [
    "registers = defaultdict(lambda: 0)\n",
    "with open('input') as f:\n",
    "    print(max_value(f, registers))\n",
    "print(registers)\n",
    "print(max(registers.values()))"
   ]
  }
 ],
 "metadata": {
  "kernelspec": {
   "display_name": "Python 3",
   "language": "python",
   "name": "python3"
  },
  "language_info": {
   "codemirror_mode": {
    "name": "ipython",
    "version": 3
   },
   "file_extension": ".py",
   "mimetype": "text/x-python",
   "name": "python",
   "nbconvert_exporter": "python",
   "pygments_lexer": "ipython3",
   "version": "3.6.3"
  }
 },
 "nbformat": 4,
 "nbformat_minor": 2
}
